{
 "cells": [
  {
   "cell_type": "code",
   "execution_count": 8,
   "id": "b911c9ba-919c-4dfc-8458-5b60b7249e8f",
   "metadata": {},
   "outputs": [],
   "source": [
    "from selenium import webdriver\n",
    "from selenium.webdriver.common.by import By\n",
    "import random"
   ]
  },
  {
   "cell_type": "code",
   "execution_count": 9,
   "id": "c8fa884c-6860-4810-b86b-af70c05bfb76",
   "metadata": {},
   "outputs": [],
   "source": [
    "USER_AGENT_LIST = ['Mozilla/5.0 (Macintosh; Intel Mac OS X 10_15_7) AppleWebKit/537.36 (KHTML, like Gecko) Chrome/114.0.0.0 Safari/537.36']\n",
    "DRIVER_FILE_PATH = \"/Users/qunishdash/Documents/chromedriver_mac64/chromedriver\""
   ]
  },
  {
   "cell_type": "code",
   "execution_count": 10,
   "id": "a793e0f0-9db5-4fa7-b76e-b54100c283a9",
   "metadata": {},
   "outputs": [],
   "source": [
    "def get_chrome_driver(headless_flag):\n",
    "    # Set up the Selenium webdriver\n",
    "    from selenium import webdriver\n",
    "    from selenium.webdriver.chrome.options import Options\n",
    "    from selenium.webdriver.chrome.service import Service\n",
    "\n",
    "    service = Service(executable_path=DRIVER_FILE_PATH)\n",
    "    chrome_options = Options()\n",
    "    \n",
    "    if headless_flag:\n",
    "        # in case you want headless browser  \n",
    "        chrome_options.add_argument(\"--headless\")\n",
    "        chrome_options.add_argument(\"--disable-extensions\")\n",
    "        chrome_options.add_argument(\"--disable-gpu\")\n",
    "        chrome_options.add_argument(\"--no-sandbox\")\n",
    "        chrome_options.add_argument(\"--start-maximized\")\n",
    "        chrome_options.add_argument(\"user-agent={}\".format(random.choice(USER_AGENT_LIST)))\n",
    "    \n",
    "    driver = webdriver.Chrome(service=service, options=chrome_options) \n",
    "\n",
    "    return driver"
   ]
  },
  {
   "cell_type": "code",
   "execution_count": 11,
   "id": "23a1dae8-0850-4589-bd8e-de22969c1114",
   "metadata": {},
   "outputs": [],
   "source": [
    "driver = get_chrome_driver(False)"
   ]
  },
  {
   "cell_type": "code",
   "execution_count": 12,
   "id": "7229716b-d639-4a07-a6f6-c91545ea2957",
   "metadata": {},
   "outputs": [],
   "source": [
    "import pymongo\n",
    "\n",
    "client = pymongo.MongoClient(\"mongodb://localhost:27017/\")\n",
    "db = client[\"walmart_data_db\"]\n",
    "collection = db[\"dorm_bedding_LV\"]"
   ]
  },
  {
   "cell_type": "code",
   "execution_count": 13,
   "id": "2c45ea7c-b365-47db-99b4-41e2d8f419af",
   "metadata": {},
   "outputs": [],
   "source": [
    "from selenium.webdriver.common.by import By\n",
    "def get_product_data(url):\n",
    "\n",
    "    driver.get(url)\n",
    "    try:\n",
    "        product_details = driver.find_element(By.CSS_SELECTOR, '.nb3').text\n",
    "    except Exception as e:\n",
    "        product_details = ''\n",
    "    try:\n",
    "        product_specification = driver.find_element(By.CSS_SELECTOR, '.ph3:nth-child(6) .pt1').text\n",
    "    except Exception as e:\n",
    "        product_specification = ''\n",
    "    try:\n",
    "        product_instruction = driver.find_element(By.CSS_SELECTOR, '.ph3:nth-child(8) .pt1').text\n",
    "    except Exception as e:\n",
    "        product_instruction = ''\n",
    "    try:\n",
    "        product_warranty = driver.find_element(By.CSS_SELECTOR, '.ph3:nth-child(10) .pt1').text\n",
    "    except Exception as e:\n",
    "        product_warranty = ''\n",
    "\n",
    "    # Create a dictionary with the scraped data\n",
    "    product_data = {\n",
    "        \"product_details\": product_details,\n",
    "        \"product_specification\": product_specification,\n",
    "        \"product_instruction\": product_instruction,\n",
    "        \"product_warranty\": product_warranty\n",
    "    }\n",
    "    \n",
    "    return product_data"
   ]
  },
  {
   "cell_type": "code",
   "execution_count": 14,
   "id": "6e6e36c6-c68b-4319-8101-d0489da6e442",
   "metadata": {},
   "outputs": [
    {
     "ename": "SyntaxError",
     "evalue": "invalid syntax (2988801104.py, line 18)",
     "output_type": "error",
     "traceback": [
      "\u001b[0;36m  Cell \u001b[0;32mIn[14], line 18\u001b[0;36m\u001b[0m\n\u001b[0;31m    scraped_data_list.append(data)\u001b[0m\n\u001b[0m    ^\u001b[0m\n\u001b[0;31mSyntaxError\u001b[0m\u001b[0;31m:\u001b[0m invalid syntax\n"
     ]
    }
   ],
   "source": [
    "import pandas as pd\n",
    "\n",
    "if __name__ == \"__main__\":\n",
    "    \n",
    "    # Fetch product URLs from MongoDB\n",
    "    data = collection.find({})\n",
    "    data_result = list(data)\n",
    "    df = pd.DataFrame(data_result)\n",
    "    pv_urls =  df['canonicalUrl'].apply(lambda x: 'https://www.walmart.com' + x if pd.notna(x) else '')\n",
    "    \n",
    "    # Define a list to store scraped data\n",
    "    scraped_data_list = []\n",
    "\n",
    "    # Scrape data for each URL and store it in the 'scraped_data_list'\n",
    "    for url in pv_urls:\n",
    "        data = get_product_data(url)\n",
    "        print(data\n",
    "        scraped_data_list.append(data)\n",
    "\n",
    "    # Upsert the data into MongoDB based on the 'onClickLink' URLs:\n",
    "    try:\n",
    "        for data in scraped_data_list:\n",
    "            pv_collection = \"dorm_bedding_PV\"\n",
    "            pvcollection = db[pv_collection]\n",
    "            url = data[\"product_url\"]  # Fetch the URL from the correct location in the data dictionary\n",
    "            del data[\"product_url\"]  # Remove the 'product_url' key as it's not part of the update\n",
    "            pvcollection.update_one({\"product_url\": url}, {\"$set\": data}, upsert=True)\n",
    "        print(\"Data upserted into MongoDB successfully.\")\n",
    "    except Exception as e:\n",
    "        print(\"Error while upserting data into MongoDB:\", e)"
   ]
  },
  {
   "cell_type": "code",
   "execution_count": null,
   "id": "91c86542-cbdd-4a59-83f6-a8014890e032",
   "metadata": {},
   "outputs": [],
   "source": [
    "client.close()"
   ]
  },
  {
   "cell_type": "code",
   "execution_count": 7,
   "id": "c3478f36-fbd5-4bb8-b074-29db30aed0dc",
   "metadata": {},
   "outputs": [
    {
     "ename": "NameError",
     "evalue": "name 'scraped_data_list' is not defined",
     "output_type": "error",
     "traceback": [
      "\u001b[0;31m---------------------------------------------------------------------------\u001b[0m",
      "\u001b[0;31mNameError\u001b[0m                                 Traceback (most recent call last)",
      "Cell \u001b[0;32mIn[7], line 1\u001b[0m\n\u001b[0;32m----> 1\u001b[0m \u001b[38;5;28mprint\u001b[39m(\u001b[43mscraped_data_list\u001b[49m[:\u001b[38;5;241m2\u001b[39m])\n",
      "\u001b[0;31mNameError\u001b[0m: name 'scraped_data_list' is not defined"
     ]
    }
   ],
   "source": [
    "print(scraped_data_list[:2])"
   ]
  },
  {
   "cell_type": "code",
   "execution_count": null,
   "id": "5eeb70e0-adf8-4346-873e-56b0436f001e",
   "metadata": {},
   "outputs": [],
   "source": [
    "driver.quit()"
   ]
  }
 ],
 "metadata": {
  "kernelspec": {
   "display_name": "Python 3 (ipykernel)",
   "language": "python",
   "name": "python3"
  },
  "language_info": {
   "codemirror_mode": {
    "name": "ipython",
    "version": 3
   },
   "file_extension": ".py",
   "mimetype": "text/x-python",
   "name": "python",
   "nbconvert_exporter": "python",
   "pygments_lexer": "ipython3",
   "version": "3.9.16"
  },
  "widgets": {
   "application/vnd.jupyter.widget-state+json": {
    "state": {},
    "version_major": 2,
    "version_minor": 0
   }
  }
 },
 "nbformat": 4,
 "nbformat_minor": 5
}
